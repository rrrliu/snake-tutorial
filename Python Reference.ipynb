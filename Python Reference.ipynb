{
 "cells": [
  {
   "cell_type": "markdown",
   "metadata": {},
   "source": [
    "<h1>Python Reference<h1>\n",
    "    \n",
    "<div id=\"TOC\">\n",
    "<ul>\n",
    "    <li>\n",
    "        <a href=\"#conditionals\">Conditionals (if, else)</a>\n",
    "    </li>\n",
    "    <li>\n",
    "        <a href=\"#loops\">Loops (for, while)</a>\n",
    "    </li>\n",
    "    <li>\n",
    "        <a href=\"#functions\">Functions</a>\n",
    "    </li>\n",
    "    <li>\n",
    "        <a href=\"#lists\">Lists</a>\n",
    "    </li>\n",
    "    <li>\n",
    "        <a href=\"#classes\">Classes</a>\n",
    "    </li>\n",
    "</ul>\n",
    "</div>"
   ]
  },
  {
   "cell_type": "markdown",
   "metadata": {},
   "source": [
    "<div id=\"conditionals\">\n",
    "    <h2>\n",
    "        <a href=\"#TOC\">Conditionals (if, elif, else)</a>\n",
    "    </h2>\n",
    "</div>"
   ]
  },
  {
   "cell_type": "markdown",
   "metadata": {},
   "source": [
    "<p>\n",
    "Conditionals are tools to help control the way your program runs. Rather than always performing statements one after the other, there are many times where we might want to skip over some statements or do something specific if a condition is true. This is exactly where conditionals come in.\n",
    "<p>\n",
    "    \n",
    "<p>\n",
    "This is the general structure for writing a series of conditional statements:\n",
    "</p>\n",
    "\n",
    "<pre>\n",
    "    <span style=\"color:#204a87\">if</span> <span style=\"color:#ce5c00\">&lt;</span>expression<span style=\"color:#ce5c00\">&gt;</span>:                    &lt;- conditional statement\n",
    "        <span style=\"color:#ce5c00\">&lt;</span>statement<span style=\"color:#ce5c00\">&gt;</span>\n",
    "        <span style=\"color:#ce5c00\">&lt;</span>statement<span style=\"color:#ce5c00\">&gt;</span>\n",
    "        ...\n",
    "        <span style=\"color:#ce5c00\">&lt;</span>statement<span style=\"color:#ce5c00\">&gt;</span>\n",
    "    <span style=\"color:#204a87\">elif</span> <span style=\"color:#ce5c00\">&lt;</span>expression<span style=\"color:#ce5c00\">&gt;</span>:                  &lt;- conditional statement\n",
    "        <span style=\"color:#ce5c00\">&lt;</span>statement<span style=\"color:#ce5c00\">&gt;</span>\n",
    "        <span style=\"color:#ce5c00\">&lt;</span>statement<span style=\"color:#ce5c00\">&gt;</span>\n",
    "        ...\n",
    "        <span style=\"color:#ce5c00\">&lt;</span>statement<span style=\"color:#ce5c00\">&gt;</span>\n",
    "    <span style=\"color:#204a87\">else</span>:                               &lt;- conditional statement\n",
    "        <span style=\"color:#ce5c00\">&lt;</span>statement<span style=\"color:#ce5c00\">&gt;</span>\n",
    "        <span style=\"color:#ce5c00\">&lt;</span>statement<span style=\"color:#ce5c00\">&gt;</span>\n",
    "        ...\n",
    "        <span style=\"color:#ce5c00\">&lt;</span>statement<span style=\"color:#ce5c00\">&gt;</span>\n",
    "</pre>"
   ]
  },
  {
   "cell_type": "markdown",
   "metadata": {},
   "source": [
    "<p>\n",
    "When an expression is true, the conditional statement is true and the <strong>block</strong> of statements it are run. Otherwise, it skips this block of statements inside the conditional, as shown in the picture:\n",
    "</p>"
   ]
  },
  {
   "cell_type": "markdown",
   "metadata": {},
   "source": [
    "<img src=\"https://files.realpython.com/media/t.78f3bacaa261.png\" style=\"width: 500px\"></img>"
   ]
  },
  {
   "cell_type": "markdown",
   "metadata": {},
   "source": [
    "<p>\n",
    "Okay...but why do we need <span style=\"font-family: monospace\">elif</span> and <span style=\"font-family: monospace\">else</span> if we can just use only <span style=\"font-family: monospace\">if</span> statements? \n",
    "    \n",
    "A series of if statements always goes through every single conditional statement. However, <span style=\"font-family: monospace\">if</span>, <span style=\"font-family: monospace\">elif</span>, and <span style=\"font-family: monospace\">else</span> check until it reaches the first true conditional. It runs the block of code under this conditional statement and then skips the remaining conditionals and their blocks.\n",
    "    \n",
    "<strong>A few things</strong>: We can use any number of <span style=\"font-family: monospace\">elif</span> statements after an <span style=\"font-family: monospace\">if</span> statement, including none of them. Also, an <span style=\"font-family: monospace\">else</span> statement is always True, so even if the previous statements fail, the block of code under an <span style=\"font-family: monospace\">else</span> will always run.\n",
    "</p>"
   ]
  },
  {
   "cell_type": "markdown",
   "metadata": {},
   "source": [
    "<p>\n",
    "Here's an example of <span style=\"font-family: monospace\">if</span>, <span style=\"font-family: monospace\">elif</span>, and <span style=\"font-family: monospace\">else</span> statements!\n",
    "</p>\n",
    "\n",
    "<pre>\n",
    "name <span style=\"color:#ce5c00\">=</span> <span style=\"color:#4e9a06\">\"Joe\"</span>\n",
    "\n",
    "<span style=\"color:#204a87\">if</span> name <span style=\"color:#ce5c00\">==</span> <span style=\"color:#4e9a06\">\"LeBron\"</span>:\n",
    "    <span style=\"color:#204a87\">print</span>(<span style=\"color:#4e9a06\">\"LeBron James\"</span>)\n",
    "<span style=\"color:#204a87\">elif</span> name <span style=\"color:#ce5c00\">==</span> <span style=\"color:#4e9a06\">\"Kawhi\"</span>:\n",
    "    <span style=\"color:#204a87\">print</span>(<span style=\"color:#4e9a06\">\"Kawhi Leonard\"</span>)\n",
    "<span style=\"color:#204a87\">elif</span> name <span style=\"color:#ce5c00\">==</span> <span style=\"color:#4e9a06\">\"Joe\"</span>:\n",
    "    <span style=\"color:#204a87\">print</span>(<span style=\"color:#4e9a06\">\"Joe Mama\"</span>)\n",
    "<span style=\"color:#204a87\">elif</span> name <span style=\"color:#ce5c00\">==</span> <span style=\"color:#4e9a06\">\"Steph\"</span>:\n",
    "     <span style=\"color:#204a87\">print</span>(<span style=\"color:#4e9a06\">\"Steph Curry\"</span>)\n",
    "<span style=\"color:#204a87\">else</span>:\n",
    "     <span style=\"color:#204a87\">print</span>(<span style=\"color:#4e9a06\">\"Who are you?!?!\"</span>)\n",
    "\n",
    "<strong>OUTPUT:</strong>\n",
    "Joe Mama\n",
    "</pre>"
   ]
  },
  {
   "cell_type": "code",
   "execution_count": null,
   "metadata": {},
   "outputs": [],
   "source": [
    "include and, or, not"
   ]
  },
  {
   "cell_type": "markdown",
   "metadata": {},
   "source": [
    "<div id=\"loops\">\n",
    "    <h2>\n",
    "        <a href=\"#TOC\">Loops (for, while)</a>\n",
    "    </h2>\n",
    "</div>"
   ]
  },
  {
   "cell_type": "markdown",
   "metadata": {},
   "source": [
    "<p>\n",
    "Just like conditionals, loops provide another way to control the flow of our program. Instead of always running code only once, we can use loops to run certain sections of code over and over again.\n",
    "</p>"
   ]
  },
  {
   "cell_type": "markdown",
   "metadata": {},
   "source": [
    "<h3>For Loops</h3>"
   ]
  },
  {
   "cell_type": "markdown",
   "metadata": {},
   "source": [
    "<p>\n",
    "<span style=\"font-family: monospace\">for</span> loops are a way of <strong>definite</strong> iteration, meaning that we clearly state the number of times we'll run the code block under the loop before starting. \n",
    "    \n",
    "In Python, we do this by going through something called an <strong>iterable</strong> value-by-value and running the <strong>block</strong> of code under the loop for each value. An <strong>iterable</strong> is any collection of objects, like a <span style=\"font-family: monospace\">list</span>. As we go through this iterable one-by-one (i.e., <strong>iterate</strong> through it), we set our variable to each of these values. All this will become clearer when we go through an example.\n",
    "</p>\n",
    "\n",
    "<p>\n",
    "Here is the general structure for writing a <span style=\"font-family: monospace\">for</span> loop:\n",
    "</p>\n",
    "\n",
    "<pre>\n",
    "    <span style=\"color:#204a87\">for</span> <span style=\"color:#ce5c00\">&lt;</span>variable<span style=\"color:#ce5c00\">&gt;</span> <span style=\"color:#204a87\">in</span> <span style=\"color:#ce5c00\">&lt;</span>iterable<span style=\"color:#ce5c00\">&gt;</span>:\n",
    "        <span style=\"color:#ce5c00\">&lt;</span>statement<span style=\"color:#ce5c00\">&gt;</span>\n",
    "        <span style=\"color:#ce5c00\">&lt;</span>statement<span style=\"color:#ce5c00\">&gt;</span>\n",
    "        ...\n",
    "        <span style=\"color:#ce5c00\">&lt;</span>statement<span style=\"color:#ce5c00\">&gt;</span>\n",
    "</pre>"
   ]
  },
  {
   "cell_type": "markdown",
   "metadata": {},
   "source": [
    "<p>\n",
    "Here's an example of a <span style=\"font-family: monospace\">for</span> loop in action!\n",
    "</p>\n",
    "\n",
    "<pre>\n",
    "my_list <span style=\"color:#ce5c00\">=</span> [<span style=\"color:#4e9a06\">\"Abra\"</span>, <span style=\"color:#4e9a06\">\"Kadabra\"</span>, <span style=\"color:#4e9a06\">\"Alakazam\"</span>]\n",
    "\n",
    "<span style=\"color:#204a87\">for</span> word <span style=\"color:#204a87\">in</span> my_list:\n",
    "    <span style=\"color:#204a87\">print</span>(word)\n",
    "\n",
    "<strong>OUTPUT:</strong>\n",
    "Abra\n",
    "Kadabra\n",
    "Alakazam\n",
    "</pre>"
   ]
  },
  {
   "cell_type": "markdown",
   "metadata": {},
   "source": [
    "<h3>While Loops</h3>"
   ]
  },
  {
   "cell_type": "markdown",
   "metadata": {},
   "source": [
    "<p>\n",
    "<span style=\"font-family: monospace\">while</span> loops are a way of <strong>indefinite</strong> iteration, meaning that we keep running the code block under the loop as long as some expression/condition is true. \n",
    "</p>\n",
    "\n",
    "<p>\n",
    "Here is the general structure for writing a <span style=\"font-family: monospace\">while</span> loop:\n",
    "</p>\n",
    "\n",
    "<pre>\n",
    "    <span style=\"color:#204a87\">while</span> <span style=\"color:#ce5c00\">&lt;</span>expression<span style=\"color:#ce5c00\">&gt;</span>:\n",
    "        <span style=\"color:#ce5c00\">&lt;</span>statement<span style=\"color:#ce5c00\">&gt;</span>\n",
    "        <span style=\"color:#ce5c00\">&lt;</span>statement<span style=\"color:#ce5c00\">&gt;</span>\n",
    "        ...\n",
    "        <span style=\"color:#ce5c00\">&lt;</span>statement<span style=\"color:#ce5c00\">&gt;</span>\n",
    "</pre>"
   ]
  },
  {
   "cell_type": "markdown",
   "metadata": {},
   "source": [
    "<p>\n",
    "Here's an example!\n",
    "</p>\n",
    "\n",
    "<pre>\n",
    "n <span style=\"color:#ce5c00\">=</span> <span style=\"color:#0000cf\">1</span>\n",
    "\n",
    "<span style=\"color:#204a87\">while</span> n <span style=\"color:#ce5c00\">&lt;=</span> <span style=\"color:#0000cf\">3000</span>:\n",
    "   <span style=\"color:#204a87\">print</span>(<span style=\"color:#4e9a06\">\"I love you\"</span>, n)\n",
    "   n <span style=\"color:#ce5c00\">+=</span> <span style=\"color:#0000cf\">1</span>\n",
    "\n",
    "<strong>OUTPUT:</strong>\n",
    "I love you 1\n",
    "I love you 2\n",
    "I love you 3\n",
    "...\n",
    "I love you 3000\n",
    "</pre>"
   ]
  },
  {
   "cell_type": "markdown",
   "metadata": {},
   "source": [
    "<div id=\"functions\">\n",
    "    <h2>\n",
    "        <a href=\"#TOC\">Functions</a>\n",
    "    </h2>\n",
    "</div>"
   ]
  },
  {
   "cell_type": "code",
   "execution_count": null,
   "metadata": {},
   "outputs": [],
   "source": []
  },
  {
   "cell_type": "markdown",
   "metadata": {},
   "source": [
    "<div id=\"Lists\">\n",
    "    <h2>\n",
    "        <a href=\"#TOC\">Lists</a>\n",
    "    </h2>\n",
    "</div>"
   ]
  },
  {
   "cell_type": "code",
   "execution_count": null,
   "metadata": {},
   "outputs": [],
   "source": []
  },
  {
   "cell_type": "markdown",
   "metadata": {},
   "source": [
    "<div id=\"classes\">\n",
    "    <h2>\n",
    "        <a href=\"#TOC\">Classes</a>\n",
    "    </h2>\n",
    "</div>"
   ]
  },
  {
   "cell_type": "code",
   "execution_count": null,
   "metadata": {},
   "outputs": [],
   "source": []
  },
  {
   "cell_type": "code",
   "execution_count": null,
   "metadata": {},
   "outputs": [],
   "source": []
  },
  {
   "cell_type": "code",
   "execution_count": null,
   "metadata": {},
   "outputs": [],
   "source": []
  },
  {
   "cell_type": "code",
   "execution_count": null,
   "metadata": {},
   "outputs": [],
   "source": []
  },
  {
   "cell_type": "code",
   "execution_count": null,
   "metadata": {},
   "outputs": [],
   "source": []
  }
 ],
 "metadata": {
  "kernelspec": {
   "display_name": "Python 3",
   "language": "python",
   "name": "python3"
  },
  "language_info": {
   "codemirror_mode": {
    "name": "ipython",
    "version": 3
   },
   "file_extension": ".py",
   "mimetype": "text/x-python",
   "name": "python",
   "nbconvert_exporter": "python",
   "pygments_lexer": "ipython3",
   "version": "3.7.4"
  }
 },
 "nbformat": 4,
 "nbformat_minor": 2
}
