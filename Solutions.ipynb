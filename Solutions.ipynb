{
 "cells": [
  {
   "cell_type": "markdown",
   "metadata": {},
   "source": [
    "# Snake Tutorial Solutions\n",
    "\n",
    "shhh don't tell the kids"
   ]
  },
  {
   "cell_type": "code",
   "execution_count": 1,
   "metadata": {},
   "outputs": [],
   "source": [
    "# Import statements\n",
    "\n",
    "from tkinter import Tk, Canvas, Frame, BOTH\n",
    "from random import randint"
   ]
  },
  {
   "cell_type": "code",
   "execution_count": 2,
   "metadata": {},
   "outputs": [],
   "source": [
    "class Block:\n",
    "    def __init__(self, x, y, size=20):\n",
    "        self.x = x\n",
    "        self.y = y\n",
    "        self.size = size\n",
    "    \n",
    "    # Already completed\n",
    "    def draw(self, canvas, color):\n",
    "        x1 = self.x * self.size\n",
    "        y1 = self.y * self.size\n",
    "        x2 = x1 + self.size\n",
    "        y2 = y1 + self.size\n",
    "        return canvas.create_rectangle(x1, y1, x2, y2, outline='', fill=color)\n",
    "    \n",
    "    def equals(self, other):\n",
    "        return self.x == other.x and self.y == other.y"
   ]
  },
  {
   "cell_type": "code",
   "execution_count": 8,
   "metadata": {},
   "outputs": [],
   "source": [
    "class Game:\n",
    "\n",
    "    def __init__(self, start_speed=10, width=50, height=40, size=20):\n",
    "        self.speed = start_speed\n",
    "        self.score = 0\n",
    "        self.width = width\n",
    "        self.height = height\n",
    "        self.snake = Snake(width // 2, height // 2)\n",
    "        self.food = Food(width, height)\n",
    "        \n",
    "        self.create_canvas(width, height, size)\n",
    "    \n",
    "    # Already completed\n",
    "    def create_canvas(self, width, height, size):\n",
    "        def on_press(event):\n",
    "            key = event.keysym\n",
    "            if key in ['Left', 'Right', 'Up', 'Down']:\n",
    "                self.snake.move(key)\n",
    "            elif key == 'q':\n",
    "                window.destroy()\n",
    "        \n",
    "        self.window = Tk()\n",
    "        self.window.geometry('{}x{}'.format(width * size, height * size))\n",
    "        self.window.resizable(False, False)\n",
    "        self.window.bind('<Key>', on_press)\n",
    "\n",
    "        frame = Frame(self.window)\n",
    "        frame.master.title('Snake')\n",
    "        frame.pack(fill=BOTH, expand=1)\n",
    "\n",
    "        self.canvas = Canvas(frame)\n",
    "        self.canvas.pack(fill=BOTH, expand=1)\n",
    "        \n",
    "        \n",
    "    def start(self):\n",
    "        self.tick()\n",
    "        self.window.mainloop()\n",
    "    \n",
    "    def crashed(self):\n",
    "        head = self.snake.head()\n",
    "        for b in self.snake.blocks[:-1]:\n",
    "            if head.equals(b):\n",
    "                return True\n",
    "        in_bounds = 0 <= head.x < self.width and 0 <= head.y < self.height\n",
    "        return not in_bounds\n",
    "    \n",
    "    def tick(self):\n",
    "        self.snake.update(self.food)\n",
    "        if self.crashed():\n",
    "            print(f'Snake died with score {self.score}')\n",
    "            self.window.destroy()\n",
    "        if self.food.eaten(self.snake):\n",
    "            self.food.__init__(self.width, self.height)\n",
    "            self.score += 1\n",
    "            self.speed += 1\n",
    "        self.render()\n",
    "        self.window.after(int(1000 / self.speed), self.tick)\n",
    "        \n",
    "    def render(self):\n",
    "        self.canvas.delete('all')\n",
    "        self.snake.draw(self.canvas)\n",
    "        self.food.draw(self.canvas)"
   ]
  },
  {
   "cell_type": "code",
   "execution_count": 9,
   "metadata": {},
   "outputs": [],
   "source": [
    "class Food:\n",
    "    def __init__(self, width, height, size=20):\n",
    "        self.block = Block(randint(0, width - 1), randint(0, height - 1), size)\n",
    "    \n",
    "    def draw(self, canvas):\n",
    "        self.block.draw(canvas, 'red')\n",
    "        \n",
    "    def eaten(self, snake):\n",
    "        return self.block.equals(snake.head())"
   ]
  },
  {
   "cell_type": "code",
   "execution_count": 10,
   "metadata": {},
   "outputs": [],
   "source": [
    "class Snake:\n",
    "    def vertical(direction):\n",
    "        return direction == 'Up' or direction == 'Down'\n",
    "    \n",
    "    def __init__(self, startX, startY):\n",
    "        self.blocks = [Block(startX + i, startY) for i in range(4)]\n",
    "        self.direction = None\n",
    "    \n",
    "    def move(self, direction):\n",
    "        if Snake.vertical(direction) != Snake.vertical(self.direction):\n",
    "            self.direction = direction\n",
    "    \n",
    "    def head(self):\n",
    "        return self.blocks[-1]\n",
    "\n",
    "    def update(self, food):\n",
    "        x = self.head().x\n",
    "        y = self.head().y\n",
    "        \n",
    "        if self.direction == 'Left':\n",
    "            next_block = Block(x - 1, y)\n",
    "        elif self.direction == 'Right':\n",
    "            next_block = Block(x + 1, y)\n",
    "        elif self.direction == 'Up':\n",
    "            next_block = Block(x, y - 1)\n",
    "        elif self.direction == 'Down':\n",
    "            next_block = Block(x, y + 1)\n",
    "        else:\n",
    "            return\n",
    "        \n",
    "        self.blocks.append(next_block)\n",
    "\n",
    "        if next_block.equals(food.block):\n",
    "            pass\n",
    "        else:\n",
    "            self.blocks.pop(0)\n",
    "    \n",
    "    def draw(self, canvas):\n",
    "        for block in self.blocks:\n",
    "            block.draw(canvas, 'grey')"
   ]
  },
  {
   "cell_type": "code",
   "execution_count": 13,
   "metadata": {},
   "outputs": [
    {
     "name": "stdout",
     "output_type": "stream",
     "text": [
      "Snake died with score 1\n"
     ]
    },
    {
     "name": "stderr",
     "output_type": "stream",
     "text": [
      "Exception in Tkinter callback\n",
      "Traceback (most recent call last):\n",
      "  File \"/usr/local/Cellar/python/3.7.5/Frameworks/Python.framework/Versions/3.7/lib/python3.7/tkinter/__init__.py\", line 1705, in __call__\n",
      "    return self.func(*args)\n",
      "  File \"/usr/local/Cellar/python/3.7.5/Frameworks/Python.framework/Versions/3.7/lib/python3.7/tkinter/__init__.py\", line 749, in callit\n",
      "    func(*args)\n",
      "  File \"<ipython-input-8-b3e8f9428e87>\", line 56, in tick\n",
      "    self.render()\n",
      "  File \"<ipython-input-8-b3e8f9428e87>\", line 60, in render\n",
      "    self.canvas.delete('all')\n",
      "  File \"/usr/local/Cellar/python/3.7.5/Frameworks/Python.framework/Versions/3.7/lib/python3.7/tkinter/__init__.py\", line 2514, in delete\n",
      "    self.tk.call((self._w, 'delete') + args)\n",
      "_tkinter.TclError: invalid command name \".!frame.!canvas\"\n"
     ]
    }
   ],
   "source": [
    "game = Game()\n",
    "game.start()"
   ]
  },
  {
   "cell_type": "code",
   "execution_count": null,
   "metadata": {},
   "outputs": [],
   "source": []
  }
 ],
 "metadata": {
  "kernelspec": {
   "display_name": "Python 3",
   "language": "python",
   "name": "python3"
  },
  "language_info": {
   "codemirror_mode": {
    "name": "ipython",
    "version": 3
   },
   "file_extension": ".py",
   "mimetype": "text/x-python",
   "name": "python",
   "nbconvert_exporter": "python",
   "pygments_lexer": "ipython3",
   "version": "3.7.5"
  }
 },
 "nbformat": 4,
 "nbformat_minor": 2
}
