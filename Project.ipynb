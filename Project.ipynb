{
 "cells": [
  {
   "cell_type": "markdown",
   "metadata": {},
   "source": [
    "# Snake 🐍🐍🐍"
   ]
  },
  {
   "cell_type": "markdown",
   "metadata": {},
   "source": [
    "<p>\n",
    "Today, we're gonna be playing the classic Snake game in Python. It'll bring together a lot of concepts in programming, and by the end, you'll have a complete game that you can show off!\n",
    "\n",
    "If you've never played Snake before, then you should try playing around with it a bit <a href=\"https://www.google.com/search?q=snake+game\">here</a> to get an idea for the game.\n",
    "    \n",
    "As you can tell, it has a few different moving parts that need to be put together, so it's best if we start planning it out first.\n",
    "</p>\n",
    "\n",
    "### !!! btw make sure to run this next code block so that the rest of our code will work. heh\n"
   ]
  },
  {
   "cell_type": "code",
   "execution_count": 1,
   "metadata": {},
   "outputs": [],
   "source": [
    "from tkinter import Tk, Canvas, Frame, BOTH\n",
    "from random import randint"
   ]
  },
  {
   "cell_type": "markdown",
   "metadata": {},
   "source": [
    "## Game Structure"
   ]
  },
  {
   "cell_type": "markdown",
   "metadata": {},
   "source": [
    "<p>\n",
    "Let's describe what's going on in the game. We start the game with a food block and a short snake made of blocks on a grid of some size. We control the movement of the snake with W, A, S, D. Every time the snake's head touches the food block, it eats it and makes the snake one block longer. If the snake ever eats itself or goes outside of the grid, it dies. The goal of the game is to fill up the entire grid with snake.\n",
    "    \n",
    "Cool cool cool, no doubt no doubt...\n",
    "    \n",
    "Oof, that's a lot. Let's try to divide it all up into more managable pieces.\n",
    "</p>\n",
    "\n",
    "<pre>\n",
    "- <strong>Game</strong>\n",
    "    - <span style=\"color:#ce5c00\">Properties:</span> width, height, score, Snake, Food\n",
    "    - <span style=\"color:#204a87\">Behaviors:</span> start, check if snake crashed, render objects on screen, tick (constantly update the game)\n",
    "- <strong>Block</strong>\n",
    "    - <span style=\"color:#ce5c00\">Properties:</span> position\n",
    "    - <span style=\"color:#204a87\">Behaviors:</span> draw, equals\n",
    "- <strong>Snake</strong>\n",
    "    - <span style=\"color:#ce5c00\">Properties:</span> speed, direction, body segment location <strong>Blocks</strong>\n",
    "    - <span style=\"color:#204a87\">Behaviors:</span> draw, move, change direction\n",
    "- <strong>Food</strong>\n",
    "    - <span style=\"color:#ce5c00\">Properties:</span> location <strong>Block</strong>\n",
    "    - <span style=\"color:#204a87\">Behaviors:</span> draw, check if eaten by snake\n",
    "</pre>"
   ]
  },
  {
   "cell_type": "markdown",
   "metadata": {},
   "source": [
    "<p>\n",
    "You might be asking now, why did I divide it all into groups that each have properties and behaviors? It's because this allows us to take advantage of <strong>object-oriented programming</strong> by making each of these four categories into self-contained <strong>classes</strong>. It'll make our code a lot easier to read and write, and allow it to become really scalable. \n",
    "    \n",
    "Say you wanted to add another snake and make it a two-player game? With this approach, it'd be super easy! Just create another instance of the Snake class!\n",
    "</p>"
   ]
  },
  {
   "cell_type": "markdown",
   "metadata": {},
   "source": [
    "## Creating our Basic Components"
   ]
  },
  {
   "cell_type": "markdown",
   "metadata": {},
   "source": [
    "### Creating our Game Window"
   ]
  },
  {
   "cell_type": "markdown",
   "metadata": {},
   "source": [
    "<p>We've implemented the <span style=\"font-family: monospace\">__init__</span>, <span style=\"font-family: monospace\">create_canvas</span> and <span style=\"font-family: monospace\">start</span> methods for you, so you can <strong>just run this next code block without worrying about it</strong>. Later, you'll be implementing the <span style=\"font-family: monospace\">crashed</span>, <span style=\"font-family: monospace\">tick</span>, and <span style=\"font-family: monospace\">render</span> methods below! </p>"
   ]
  },
  {
   "cell_type": "code",
   "execution_count": 2,
   "metadata": {},
   "outputs": [],
   "source": [
    "class Game:\n",
    "        \n",
    "    # Don't worry about the methods below, we've implemented them for you.\n",
    "    \n",
    "    def __init__(self):\n",
    "        self.score = 0\n",
    "        self.width = 20\n",
    "        self.height = 15\n",
    "        self.block_size = 20\n",
    "        self.create_canvas(self.width, self.height, self.block_size)\n",
    "    \n",
    "    def create_canvas(self, width, height, size):\n",
    "        def on_press(event):\n",
    "            key = event.keysym\n",
    "            if key in ['Left', 'Right', 'Up', 'Down']:\n",
    "                self.snake.move(key)\n",
    "            elif key == 'q':\n",
    "                window.destroy()\n",
    "        \n",
    "        self.window = Tk()\n",
    "        self.window.geometry('{}x{}'.format(width * size, height * size))\n",
    "        self.window.resizable(False, False)\n",
    "        self.window.bind('<Key>', on_press)\n",
    "\n",
    "        frame = Frame(self.window)\n",
    "        frame.master.title('Snake')\n",
    "        frame.pack(fill=BOTH, expand=1)\n",
    "\n",
    "        self.canvas = Canvas(frame)\n",
    "        self.canvas.pack(fill=BOTH, expand=1)\n",
    "         \n",
    "    def start(self):\n",
    "        self.tick()\n",
    "        self.window.mainloop()\n",
    "    \n",
    "    def crashed(self, snake):\n",
    "        return False\n",
    "    \n",
    "    def tick(self):\n",
    "        pass\n",
    "        \n",
    "    def render(self):\n",
    "        pass"
   ]
  },
  {
   "cell_type": "markdown",
   "metadata": {},
   "source": [
    "Run this next block to see what our canvas looks like (it should just be a blank screen)! Close the window when you're finished."
   ]
  },
  {
   "cell_type": "code",
   "execution_count": 3,
   "metadata": {},
   "outputs": [],
   "source": [
    "game = Game()\n",
    "game.start()"
   ]
  },
  {
   "cell_type": "markdown",
   "metadata": {},
   "source": [
    "### Building Blocks"
   ]
  },
  {
   "cell_type": "markdown",
   "metadata": {},
   "source": [
    "<p>\n",
    "Try to implement the <span style=\"font-family: monospace\">__init__</span> and <span style=\"font-family: monospace\">draw</span> methods for the Block class by editing the code block below!\n",
    "\n",
    "We'll have our <span style=\"font-family: monospace\">x</span> and <span style=\"font-family: monospace\">y</span> arguments in <span style=\"font-family: monospace\">\\_\\_init\\_\\_</span> represent the upper left coordinate of our Block. Since our game is on a Block grid, a distance of 1 is actually a distance of a whole block length. Keep in mind that a Block should be <span style=\"font-family: monospace\">size</span> units wide and <span style=\"font-family: monospace\">size</span> units tall."
   ]
  },
  {
   "cell_type": "markdown",
   "metadata": {},
   "source": [
    "This is how you can draw a rectangle for the Graphical User Interface (GUI) we're using:\n",
    "</p>\n",
    "\n",
    "<pre>\n",
    "canvas<span style=\"color:#ce5c00\">.</span><span style=\"color:#204a87\">create_rectangle</span>(&lt;x_1&gt;, &lt;y_1&gt;, &lt;x_2&gt;, &lt;y_2&gt;, [optional arguments])\n",
    "</pre>\n",
    "\n",
    "<p>\n",
    "<span style=\"font-family: monospace\">&lt;x_1&gt;, &lt;y_1&gt;, &lt;x_2&gt;, &lt;y_2&gt;</span> indicate the x- and y-coordinates of the upper left and lower right corners of the rectangle.\n",
    "</p>\n",
    "\n",
    "\n",
    "<p>\n",
    "Optional arguments that could be useful:\n",
    "</p>\n",
    "\n",
    "<pre>\n",
    "outline <span style=\"color:#ce5c00\">=</span> &lt;color&gt; (default color is black)\n",
    "fill <span style=\"color:#ce5c00\">=</span> &lt;color&gt; (default color is transparent)\n",
    "</pre>"
   ]
  },
  {
   "cell_type": "code",
   "execution_count": 9,
   "metadata": {},
   "outputs": [],
   "source": [
    "class Block:\n",
    "    def __init__(self, x, y, size=20):\n",
    "        self.size = size\n",
    "        # Your code here!\n",
    "    \n",
    "    def draw(self, canvas, color):\n",
    "        x1 = # Your code here!\n",
    "        y1 = # Your code here!\n",
    "        x2 = # Your code here!\n",
    "        y2 = # Your code here!\n",
    "        # Now, draw the rectangle"
   ]
  },
  {
   "cell_type": "markdown",
   "metadata": {},
   "source": [
    "<p>\n",
    "The code block below is a test to see if your code works. If your code is correct, you should see a red square in the upper left corner, and a black square next to it!\n",
    "</p>"
   ]
  },
  {
   "cell_type": "code",
   "execution_count": 13,
   "metadata": {},
   "outputs": [],
   "source": [
    "# DO NOT EDIT, RUN ONLY\n",
    "\n",
    "b1 = Block(0, 0)\n",
    "b2 = Block(1, 0)\n",
    "\n",
    "game = Game()\n",
    "\n",
    "b1.draw(game.canvas, 'red')\n",
    "b2.draw(game.canvas, 'black')\n",
    "\n",
    "game.start()"
   ]
  },
  {
   "cell_type": "markdown",
   "metadata": {},
   "source": [
    "### Creating a Snake"
   ]
  },
  {
   "cell_type": "markdown",
   "metadata": {},
   "source": [
    "Now that we can create some blocks, we can finally construct our 🐍🐍🐍 !\n",
    "\n"
   ]
  },
  {
   "cell_type": "code",
   "execution_count": null,
   "metadata": {},
   "outputs": [],
   "source": [
    "class Snake:\n",
    "    \n",
    "    def __init__(self, startX, startY):\n",
    "        # Your code here!\n",
    "    \n",
    "    def draw(self, canvas):\n",
    "        # Your code here!"
   ]
  },
  {
   "cell_type": "markdown",
   "metadata": {},
   "source": [
    "Now, let's move onto the <span style=\"font-family: monospace\">Snake</span> class. Complete the <span style=\"font-family: monospace\">move</span> and <span style=\"font-family: monospace\">update</span> method below.\n",
    "\n",
    "One important consideration for the <span style=\"font-family: monospace\">move</span> method: we shouldn't be able to move in the opposite direction of our current movement (e.g. we can't move left if we're currently going right). How would you account for this?"
   ]
  },
  {
   "cell_type": "code",
   "execution_count": null,
   "metadata": {},
   "outputs": [],
   "source": [
    "class Snake:\n",
    "    start_length = 4\n",
    "    start_speed = 10\n",
    "    \n",
    "    def __init__(self, startX, startY):\n",
    "        self.blocks = []\n",
    "        for i in range(Snake.start_length):\n",
    "            self.blocks.append(Block(startX + i, startY))\n",
    "        self.direction = 'Right'\n",
    "        self.speed = Snake.start_speed\n",
    "        self.paused = True\n",
    "    \n",
    "    def move(self, direction):\n",
    "        able_to_move = # Your code here!\n",
    "        if able_to_move:\n",
    "            self.direction = direction\n",
    "            self.paused = False\n",
    "    \n",
    "    def head(self):\n",
    "        return self.blocks[-1]\n",
    "\n",
    "    def update(self, ate_food):\n",
    "        if self.paused:\n",
    "            return\n",
    "        \n",
    "        x = self.head().x\n",
    "        y = self.head().y\n",
    "        \n",
    "        if self.direction == 'Left':\n",
    "            next_block = Block(x - 1, y)\n",
    "        elif self.direction == 'Right':\n",
    "            next_block = # Your code here!\n",
    "        elif self.direction == 'Up':\n",
    "            next_block = # Your code here!\n",
    "        elif self.direction == 'Down':\n",
    "            next_block = # Your code here!\n",
    "        else:\n",
    "            return\n",
    "        \n",
    "        self.blocks.append(next_block)\n",
    "\n",
    "        if not ate_food:\n",
    "            # Delete the last block of the Snake\n",
    "    \n",
    "    def draw(self, canvas):\n",
    "        for block in self.blocks:\n",
    "            block.draw(canvas, 'grey')"
   ]
  }
 ],
 "metadata": {
  "kernelspec": {
   "display_name": "Python 3",
   "language": "python",
   "name": "python3"
  },
  "language_info": {
   "codemirror_mode": {
    "name": "ipython",
    "version": 3
   },
   "file_extension": ".py",
   "mimetype": "text/x-python",
   "name": "python",
   "nbconvert_exporter": "python",
   "pygments_lexer": "ipython3",
   "version": "3.7.4"
  }
 },
 "nbformat": 4,
 "nbformat_minor": 2
}
