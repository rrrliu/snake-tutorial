{
 "cells": [
  {
   "cell_type": "markdown",
   "metadata": {},
   "source": [
    "# Snake 🐍🐍🐍"
   ]
  },
  {
   "cell_type": "markdown",
   "metadata": {},
   "source": [
    "<p>\n",
    "Today, we're gonna be playing the classic Snake game in Python. It'll bring together a lot of concepts in programming, and by the end, you'll have a complete game that you can show off!\n",
    "\n",
    "If you've never played Snake before, then you should try playing around with it a bit <a href=\"https://www.google.com/search?q=snake+game\">here</a> to get an idea for the game.\n",
    "    \n",
    "As you can tell, it has a few different moving parts that need to be put together, so it's best if we start planning it out first.\n",
    "</p>\n",
    "\n",
    "### !!! btw make sure to run this next code block so that the rest of our code will work. heh\n"
   ]
  },
  {
   "cell_type": "code",
   "execution_count": 7,
   "metadata": {},
   "outputs": [],
   "source": [
    "from tkinter import Tk, Canvas, Frame, BOTH\n",
    "from random import randint"
   ]
  },
  {
   "cell_type": "markdown",
   "metadata": {},
   "source": [
    "## Game Structure"
   ]
  },
  {
   "cell_type": "markdown",
   "metadata": {},
   "source": [
    "<p>\n",
    "Let's describe what's going on in the game. We start the game with a food block and a short snake made of blocks on a grid of some size. We control the movement of the snake with W, A, S, D. Every time the snake's head touches the food block, it eats it and makes the snake one block longer. If the snake ever eats itself or goes outside of the grid, it dies. The goal of the game is to fill up the entire grid with snake.\n",
    "    \n",
    "Cool cool cool, no doubt no doubt...\n",
    "    \n",
    "Oof, that's a lot. Let's try to divide it all up into more managable pieces.\n",
    "</p>\n",
    "\n",
    "<pre>\n",
    "- <strong>Game</strong>\n",
    "    - <span style=\"color:#ce5c00\">Properties:</span> width, height, score, Snake, Food\n",
    "    - <span style=\"color:#204a87\">Behaviors:</span> start, check if snake crashed, render objects on screen, tick (constantly update the game)\n",
    "- <strong>Block</strong>\n",
    "    - <span style=\"color:#ce5c00\">Properties:</span> position\n",
    "    - <span style=\"color:#204a87\">Behaviors:</span> draw, equals\n",
    "- <strong>Snake</strong>\n",
    "    - <span style=\"color:#ce5c00\">Properties:</span> speed, direction, body segment location <strong>Blocks</strong>\n",
    "    - <span style=\"color:#204a87\">Behaviors:</span> draw, move, change direction\n",
    "- <strong>Food</strong>\n",
    "    - <span style=\"color:#ce5c00\">Properties:</span> location <strong>Block</strong>\n",
    "    - <span style=\"color:#204a87\">Behaviors:</span> draw, check if eaten by snake\n",
    "</pre>"
   ]
  },
  {
   "cell_type": "markdown",
   "metadata": {},
   "source": [
    "<p>\n",
    "You might be asking now, why did I divide it all into groups that each have properties and behaviors? It's because this allows us to take advantage of <strong>object-oriented programming</strong> by making each of these four categories into self-contained <strong>classes</strong>. It'll make our code a lot easier to read and write, and allow it to become really scalable. \n",
    "    \n",
    "Say you wanted to add another snake and make it a two-player game? With this approach, it'd be super easy! Just create another instance of the Snake class!\n",
    "</p>"
   ]
  },
  {
   "cell_type": "markdown",
   "metadata": {},
   "source": [
    "## Creating our Basic Components"
   ]
  },
  {
   "cell_type": "markdown",
   "metadata": {},
   "source": [
    "### Creating our Game Window"
   ]
  },
  {
   "cell_type": "markdown",
   "metadata": {},
   "source": [
    "<p>We've implemented the <span style=\"font-family: monospace\">__init__</span>, <span style=\"font-family: monospace\">create_canvas</span> and <span style=\"font-family: monospace\">start</span> methods for you, so you can <strong>just run this next code block without worrying about it</strong>. Later, you'll be implementing the <span style=\"font-family: monospace\">crashed</span>, <span style=\"font-family: monospace\">tick</span>, and <span style=\"font-family: monospace\">render</span> methods below! </p>"
   ]
  },
  {
   "cell_type": "code",
   "execution_count": 8,
   "metadata": {},
   "outputs": [],
   "source": [
    "class Game:\n",
    "        \n",
    "    # Don't worry about the methods below, we've implemented them for you.\n",
    "    \n",
    "    def __init__(self):\n",
    "        self.score = 0\n",
    "        self.width = 20\n",
    "        self.height = 15\n",
    "        self.block_size = 20\n",
    "        self.create_canvas(self.width, self.height, self.block_size)\n",
    "    \n",
    "    def create_canvas(self, width, height, size):\n",
    "        def on_press(event):\n",
    "            key = event.keysym\n",
    "            if key in ['Left', 'Right', 'Up', 'Down']:\n",
    "                self.snake.move(key)\n",
    "            elif key == 'q':\n",
    "                window.destroy()\n",
    "        \n",
    "        self.window = Tk()\n",
    "        self.window.geometry('{}x{}'.format(width * size, height * size))\n",
    "        self.window.resizable(False, False)\n",
    "        self.window.bind('<Key>', on_press)\n",
    "\n",
    "        frame = Frame(self.window)\n",
    "        frame.master.title('Snake')\n",
    "        frame.pack(fill=BOTH, expand=1)\n",
    "\n",
    "        self.canvas = Canvas(frame)\n",
    "        self.canvas.pack(fill=BOTH, expand=1)\n",
    "         \n",
    "    def start(self):\n",
    "        self.tick()\n",
    "        self.window.mainloop()\n",
    "    \n",
    "    def crashed(self, snake):\n",
    "        return False\n",
    "    \n",
    "    def tick(self):\n",
    "        pass\n",
    "        \n",
    "    def render(self):\n",
    "        pass"
   ]
  },
  {
   "cell_type": "markdown",
   "metadata": {},
   "source": [
    "Run this next block to see what our canvas looks like! Close the window when you're finished."
   ]
  },
  {
   "cell_type": "code",
   "execution_count": 9,
   "metadata": {},
   "outputs": [],
   "source": [
    "game = Game()\n",
    "game.start()"
   ]
  },
  {
   "cell_type": "markdown",
   "metadata": {},
   "source": [
    "### Building Blocks"
   ]
  },
  {
   "cell_type": "markdown",
   "metadata": {},
   "source": [
    "<p>\n",
    "Try to implement the <span style=\"font-family: monospace\">__init__</span> and <span style=\"font-family: monospace\">draw</span> methods for the Block class by editing the code block below!\n",
    "\n",
    "For reference, this is how you can draw a rectangle in tkinter, which is the <strong>library</strong> we're using to help create our Graphical User Interface (GUI)!\n",
    "</p>\n",
    "\n",
    "<pre>\n",
    "canvas.create_rectangle(&lt;x_1&gt;, &lt;y_1&gt;, &lt;x_2&gt;, &lt;y_2&gt;, [optional arguments])\n",
    "</pre>\n",
    "\n",
    "<p>\n",
    "Optional arguments that could be useful:\n",
    "</p>\n",
    "\n",
    "<pre>\n",
    "outline=&lt;color&gt; (default color is black)\n",
    "fill=&lt;color&gt; (default color is transparent)\n",
    "</pre>"
   ]
  },
  {
   "cell_type": "code",
   "execution_count": 9,
   "metadata": {},
   "outputs": [],
   "source": [
    "class Block:\n",
    "    def __init__(self, x, y, size=20):\n",
    "        self.size = size\n",
    "        # Your code here!\n",
    "    \n",
    "    def draw(self, canvas, color):\n",
    "        # Your code here!"
   ]
  },
  {
   "cell_type": "markdown",
   "metadata": {},
   "source": [
    "<p>\n",
    "The code block below is a test to see if your code works. If your code is correct, you should see a red block in the upper left corner, and a black block next to it!\n",
    "</p>"
   ]
  },
  {
   "cell_type": "code",
   "execution_count": 13,
   "metadata": {},
   "outputs": [],
   "source": [
    "b1 = Block(0, 0)\n",
    "b2 = Block(1, 0)\n",
    "\n",
    "game = Game()\n",
    "\n",
    "b1.draw(game.canvas, 'red')\n",
    "b2.draw(game.canvas, 'black')\n",
    "\n",
    "game.start()"
   ]
  },
  {
   "cell_type": "code",
   "execution_count": null,
   "metadata": {},
   "outputs": [],
   "source": []
  }
 ],
 "metadata": {
  "kernelspec": {
   "display_name": "Python 3",
   "language": "python",
   "name": "python3"
  },
  "language_info": {
   "codemirror_mode": {
    "name": "ipython",
    "version": 3
   },
   "file_extension": ".py",
   "mimetype": "text/x-python",
   "name": "python",
   "nbconvert_exporter": "python",
   "pygments_lexer": "ipython3",
   "version": "3.7.4"
  }
 },
 "nbformat": 4,
 "nbformat_minor": 2
}
