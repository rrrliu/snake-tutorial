{
 "cells": [
  {
   "cell_type": "markdown",
   "metadata": {},
   "source": [
    "# Snake 🐍🐍🐍"
   ]
  },
  {
   "cell_type": "markdown",
   "metadata": {},
   "source": [
    "<p>\n",
    "Today, we're gonna be creating the classic Snake game in Python. It'll bring together a lot of concepts in programming, and by the end, you'll have a complete game that you can show off!\n",
    "\n",
    "If you've never played Snake before, then you should try playing around with it a bit <a href=\"https://www.google.com/search?q=snake+game\">here</a> to get an idea for the game.\n",
    "    \n",
    "As you can tell, it has a few different moving parts that need to be put together, so it's best if we start planning it out first.\n",
    "</p>\n",
    "\n",
    "### !!! btw make sure to run this next code block so that the rest of our code will work. heh\n"
   ]
  },
  {
   "cell_type": "code",
   "execution_count": null,
   "metadata": {},
   "outputs": [],
   "source": [
    "from tkinter import Tk, Canvas, Frame, BOTH\n",
    "from random import randint"
   ]
  },
  {
   "cell_type": "markdown",
   "metadata": {},
   "source": [
    "## Game Structure"
   ]
  },
  {
   "cell_type": "markdown",
   "metadata": {},
   "source": [
    "<p>\n",
    "Let's describe what's going on in the game. We start the game with a food block and a short snake made of blocks on a grid of some size. We control the movement of the snake with W, A, S, D. Every time the snake's head touches the food block, it eats it and makes the snake one block longer. If the snake ever eats itself or goes outside of the grid, it dies. The goal of the game is to fill up the entire grid with snake.\n",
    "    \n",
    "Cool cool cool, no doubt no doubt...\n",
    "    \n",
    "Oof, that's a lot. Let's try to divide it all up into more managable pieces.\n",
    "</p>\n",
    "\n",
    "<pre>\n",
    "- <strong>Game</strong>\n",
    "    - <span style=\"color:#ce5c00\">Properties:</span> width, height, score, Snake, Food\n",
    "    - <span style=\"color:#204a87\">Behaviors:</span> start, check if snake crashed, render objects on screen, tick (constantly update the game)\n",
    "- <strong>Block</strong>\n",
    "    - <span style=\"color:#ce5c00\">Properties:</span> position\n",
    "    - <span style=\"color:#204a87\">Behaviors:</span> draw, equals\n",
    "- <strong>Snake</strong>\n",
    "    - <span style=\"color:#ce5c00\">Properties:</span> speed, direction, body segment location <strong>Blocks</strong>\n",
    "    - <span style=\"color:#204a87\">Behaviors:</span> draw, move, change direction\n",
    "- <strong>Food</strong>\n",
    "    - <span style=\"color:#ce5c00\">Properties:</span> location <strong>Block</strong>\n",
    "    - <span style=\"color:#204a87\">Behaviors:</span> draw, check if eaten by snake\n",
    "</pre>"
   ]
  },
  {
   "cell_type": "markdown",
   "metadata": {},
   "source": [
    "<p>\n",
    "You might be asking now, why did I divide it all into groups that each have properties and behaviors? It's because this allows us to take advantage of <strong>object-oriented programming</strong> by making each of these four categories into self-contained <strong>classes</strong>. It'll make our code a lot easier to read and write, and allow it to become really scalable. \n",
    "    \n",
    "Say you wanted to add another snake and make it a two-player game? With this approach, it'd be super easy! Just create another instance of the Snake class!\n",
    "</p>"
   ]
  },
  {
   "cell_type": "markdown",
   "metadata": {},
   "source": [
    "## Part 1: Creating our Basic Components"
   ]
  },
  {
   "cell_type": "markdown",
   "metadata": {},
   "source": [
    "### Creating our Game Window"
   ]
  },
  {
   "cell_type": "markdown",
   "metadata": {},
   "source": [
    "<p>We've implemented the <span style=\"font-family: monospace\">__init__</span>, <span style=\"font-family: monospace\">create_canvas</span> and <span style=\"font-family: monospace\">start</span> methods for you, so you can <strong>just run this next code block without worrying about it</strong>."
   ]
  },
  {
   "cell_type": "code",
   "execution_count": null,
   "metadata": {},
   "outputs": [],
   "source": [
    "class Game:\n",
    "        \n",
    "    # Don't worry about the methods below for now, we've implemented them for you.\n",
    "    \n",
    "    def __init__(self, width=20, height=15, block_size = 20):\n",
    "        self.score = 0\n",
    "        self.width = width\n",
    "        self.height = height\n",
    "        self.block_size = block_size\n",
    "        self.create_canvas(self.width, self.height, self.block_size)\n",
    "    \n",
    "    def create_canvas(self, width, height, size):\n",
    "        def on_press(event):\n",
    "            key = event.keysym\n",
    "            if key in ['Left', 'Right', 'Up', 'Down']:\n",
    "                self.snake.move(key)\n",
    "            elif key == 'q':\n",
    "                window.destroy()\n",
    "        \n",
    "        self.window = Tk()\n",
    "        self.window.geometry('{}x{}'.format(width * size, height * size))\n",
    "        self.window.resizable(False, False)\n",
    "        self.window.bind('<Key>', on_press)\n",
    "\n",
    "        frame = Frame(self.window)\n",
    "        frame.master.title('Snake')\n",
    "        frame.pack(fill=BOTH, expand=1)\n",
    "\n",
    "        self.canvas = Canvas(frame)\n",
    "        self.canvas.pack(fill=BOTH, expand=1)\n",
    "         \n",
    "    def start(self):\n",
    "        self.tick()\n",
    "        self.window.mainloop()\n",
    "    \n",
    "    def crashed(self, snake):\n",
    "        return False\n",
    "    \n",
    "    def tick(self):\n",
    "        pass\n",
    "        \n",
    "    def render(self):\n",
    "        pass"
   ]
  },
  {
   "cell_type": "markdown",
   "metadata": {},
   "source": [
    "Run this next block to see what our canvas looks like (it should just be a blank screen)! Close the window when you're finished."
   ]
  },
  {
   "cell_type": "code",
   "execution_count": null,
   "metadata": {},
   "outputs": [],
   "source": [
    "game = Game()\n",
    "game.start()"
   ]
  },
  {
   "cell_type": "markdown",
   "metadata": {},
   "source": [
    "### Building Blocks"
   ]
  },
  {
   "cell_type": "markdown",
   "metadata": {},
   "source": [
    "<p>\n",
    "Try to implement the <span style=\"font-family: monospace\">__init__</span> and <span style=\"font-family: monospace\">draw</span> methods for the <span style=\"font-family: monospace\">Block</span> class by editing the code block below!\n",
    "\n",
    "We'll have our <span style=\"font-family: monospace\">x</span> and <span style=\"font-family: monospace\">y</span> arguments in <span style=\"font-family: monospace\">\\_\\_init\\_\\_</span> represent the upper left coordinate of our <span style=\"font-family: monospace\">Block</span>. Since our game is on a <span style=\"font-family: monospace\">Block</span> grid, a distance of 1 is actually a distance of a whole block length. Keep in mind that a <span style=\"font-family: monospace\">Block</span> should be <span style=\"font-family: monospace\">size</span> units wide and <span style=\"font-family: monospace\">size</span> units tall."
   ]
  },
  {
   "cell_type": "markdown",
   "metadata": {},
   "source": [
    "This is how you can draw a rectangle for the Graphical User Interface (GUI) we're using:\n",
    "</p>\n",
    "\n",
    "<pre>\n",
    "canvas<span style=\"color:#ce5c00\">.</span><span style=\"color:#204a87\">create_rectangle</span>(&lt;x_1&gt;, &lt;y_1&gt;, &lt;x_2&gt;, &lt;y_2&gt;, [optional arguments])\n",
    "</pre>\n",
    "\n",
    "<p>\n",
    "<span style=\"font-family: monospace\">&lt;x_1&gt;, &lt;y_1&gt;, &lt;x_2&gt;, &lt;y_2&gt;</span> indicate the x- and y-coordinates of the upper left and lower right corners of the rectangle.\n",
    "</p>\n",
    "\n",
    "\n",
    "<p>\n",
    "Optional arguments that could be useful:\n",
    "</p>\n",
    "\n",
    "<pre>\n",
    "outline <span style=\"color:#ce5c00\">=</span> &lt;color&gt; (default color is black)\n",
    "fill <span style=\"color:#ce5c00\">=</span> &lt;color&gt; (default color is transparent)\n",
    "</pre>"
   ]
  },
  {
   "cell_type": "code",
   "execution_count": null,
   "metadata": {},
   "outputs": [],
   "source": [
    "class Block:\n",
    "    def __init__(self, x, y, size=20):\n",
    "        self.size = size\n",
    "        # Your code here!\n",
    "    \n",
    "    def draw(self, canvas, color):\n",
    "        x1 = # Your code here!\n",
    "        y1 = # Your code here!\n",
    "        x2 = # Your code here!\n",
    "        y2 = # Your code here!\n",
    "        # Now, draw the rectangle\n",
    "\n",
    "    # This function has been done for you\n",
    "    def equals(self, other):\n",
    "        return self.x == other.x and self.y == other.y"
   ]
  },
  {
   "cell_type": "markdown",
   "metadata": {},
   "source": [
    "<p>\n",
    "The code block below is a test to see if your code works. If your code is correct, you should see a red square in the upper left corner, and a black square next to it!\n",
    "</p>"
   ]
  },
  {
   "cell_type": "code",
   "execution_count": null,
   "metadata": {},
   "outputs": [],
   "source": [
    "# DO NOT EDIT, RUN ONLY\n",
    "\n",
    "b1 = Block(0, 0)\n",
    "b2 = Block(1, 0)\n",
    "\n",
    "game = Game()\n",
    "\n",
    "b1.draw(game.canvas, 'red')\n",
    "b2.draw(game.canvas, 'black')\n",
    "\n",
    "game.start()"
   ]
  },
  {
   "cell_type": "markdown",
   "metadata": {},
   "source": [
    "### Creating a Snake"
   ]
  },
  {
   "cell_type": "markdown",
   "metadata": {},
   "source": [
    "<p>\n",
    "Now that we can create some blocks, we can finally construct our 🐍🐍🐍 !\n",
    "    \n",
    "Create an <span style=\"font-family: monospace\">\\_\\_init\\_\\_</span> method for our <span style=\"font-family: monospace\">Snake</span>. It should have <span style=\"font-family: monospace\">start_length</span> body segments at the beginning, each of which is a <span style=\"font-family: monospace\">Block</span>. The <span style=\"font-family: monospace\">startX</span> and <span style=\"font-family: monospace\">startY</span> parameters tell you the location of the head of the snake. What can we use to represent this collection of objects? (Hint: it's on the reference sheet)\n",
    "    \n",
    "After that, implement the <span style=\"font-family: monospace\">draw</span> method, drawing all the body segments of the snake onto the canvas. You won't have to call <span style=\"color:#204a87;font-family: monospace\">create_rectangle</span> again here!\n",
    "    \n",
    "Finally, create a method called <span style=\"font-family: monospace\">head</span>, which returns the head Block of the snake from its body segment Blocks! Our solution uses one line.\n",
    "    \n",
    "It should look something like this when you're finished!\n",
    "</p>\n",
    "\n",
    "<img src=\"./images/snake.png\" style=\"width: 300px; border: 1px solid black\"></img>"
   ]
  },
  {
   "cell_type": "code",
   "execution_count": null,
   "metadata": {},
   "outputs": [],
   "source": [
    "class Snake:\n",
    "    \n",
    "    # Feel free to change these values to your liking!\n",
    "    start_length = 4\n",
    "    start_speed = 10\n",
    "    \n",
    "    def __init__(self, startX, startY):\n",
    "        self.paused = True\n",
    "        self.direction = 'Right'\n",
    "        self.speed = start_speed\n",
    "        self.blocks = # Your code here!\n",
    "        # Your code here!\n",
    "    \n",
    "    def draw(self, canvas):\n",
    "        # Your code here!\n",
    "\n",
    "    # Add a head() method which returns the head Block of the Snake!\n",
    "    # Example usage:\n",
    "    # >>> snake = Snake(5, 8)\n",
    "    # >>> head = snake.head()\n",
    "    # >>> head.x, head.y\n",
    "    # (5, 8)"
   ]
  },
  {
   "cell_type": "markdown",
   "metadata": {},
   "source": [
    "Now run the code block below to see the result and test if your code works!"
   ]
  },
  {
   "cell_type": "code",
   "execution_count": null,
   "metadata": {},
   "outputs": [],
   "source": [
    "game = Game()\n",
    "snake = Snake(game.width // 2, game.height // 2)\n",
    "\n",
    "snake.draw(game.canvas)\n",
    "\n",
    "game.start()"
   ]
  },
  {
   "cell_type": "markdown",
   "metadata": {},
   "source": [
    "### Creating Food"
   ]
  },
  {
   "cell_type": "markdown",
   "metadata": {},
   "source": [
    "Let's put some <span style=\"font-family: monospace\">Snake</span> on our screen for our snek to eat!\n",
    "\n",
    "Create an <span style=\"font-family: monospace\">\\_\\_init\\_\\_</span> and <span style=\"font-family: monospace\">is_valid</span> method for our <span style=\"font-family: monospace\">Snake</span>. Its location is set to random, but it shouldn't equal __any__ of the <span style=\"font-family: monospace\">Blocks</span> in <span style=\"font-family: monospace\">invalid_blocks</span>, a parameter that's a list of <span style=\"font-family: monospace\">Blocks</span>. It keeps trying locations until it finds one that's valid. __When checking if one Block is equal to another, use the <span style=\"font-family: monospace\">equals</span> method in the Block class!!__ "
   ]
  },
  {
   "cell_type": "markdown",
   "metadata": {},
   "source": [
    "To create a random integer in Python, you'll have to use the following function. It creates a random integer between <span style=\"font-family: monospace\">start</span> and <span style=\"font-family: monospace\">end</span>.\n",
    "\n",
    "<pre>\n",
    "<span style=\"color:#204a87\">rand_int</span>(<span style=\"font-family: monospace\">&lt;start&gt;, &lt;end&gt;</span>)\n",
    "</pre>\n",
    "\n",
    "Finally, write the <span style=\"font-family: monospace\">draw</span> method so that we can see our food on the screen.\n",
    "\n",
    "It should look something like this when you're done!\n",
    "\n",
    "<img src=\"./images/snake+food.png\" style=\"width: 300px; border: 1px solid black\"></img>"
   ]
  },
  {
   "cell_type": "code",
   "execution_count": null,
   "metadata": {},
   "outputs": [],
   "source": [
    "class Food:\n",
    "    \n",
    "    def __init__(self, invalid_blocks, width, height, size=20):\n",
    "        self.block = # Your code here!\n",
    "        while not self.is_valid(invalid_blocks):\n",
    "            self.block = # Your code here!\n",
    "        \n",
    "    def is_valid(self, invalid_blocks):\n",
    "        # Your code here!\n",
    "        \n",
    "    def draw(self, canvas):\n",
    "        # Your code here!"
   ]
  },
  {
   "cell_type": "markdown",
   "metadata": {},
   "source": [
    "Run the code block below to see the result and test if your code works. Make sure that when you run it multiple times, the food pops up in different locations!"
   ]
  },
  {
   "cell_type": "code",
   "execution_count": null,
   "metadata": {},
   "outputs": [],
   "source": [
    "game = Game()\n",
    "snake = Snake(game.width // 2, game.height // 2)\n",
    "food = Food(snake.blocks, game.width, game.height)\n",
    "\n",
    "snake.draw(game.canvas)\n",
    "food.draw(game.canvas)\n",
    "\n",
    "game.start()"
   ]
  },
  {
   "cell_type": "markdown",
   "metadata": {},
   "source": [
    "There we have it! We've finished creating the basic components of the game, and the rest of our job is to have our objets move and interact!"
   ]
  },
  {
   "cell_type": "markdown",
   "metadata": {},
   "source": [
    "## Part 2: Slithering the Snake"
   ]
  },
  {
   "cell_type": "markdown",
   "metadata": {},
   "source": [
    "Tbh, your snake is looking kinda sad there without the ability to move.\n",
    "\n",
    "I think it's time to go back to the <span style=\"font-family: monospace\">Snake</span> class and figure out our slithering logic! We're going to implement the <span style=\"font-family: monospace\">move</span> and <span style=\"font-family: monospace\">update</span> method below, and then sync it all up with our <span style=\"font-family: monospace\">Game</span> class."
   ]
  },
  {
   "cell_type": "markdown",
   "metadata": {},
   "source": [
    "### The <span style=\"font-family: monospace\">move</span> Method"
   ]
  },
  {
   "cell_type": "markdown",
   "metadata": {},
   "source": [
    "The <span style=\"font-family: monospace\">move</span> method takes in a direction string of either <span style=\"font-family: monospace; color:#4e9a06\">'Left', 'Right', 'Up', 'Down'</span> and sets the snake's instance variable to that direction.\n",
    "\n",
    "One important consideration for the <span style=\"font-family: monospace\">move</span> method: we shouldn't be able to move in the opposite direction of our current movement (e.g. we can't move left if we're currently going right). How would you account for this?"
   ]
  },
  {
   "cell_type": "code",
   "execution_count": null,
   "metadata": {},
   "outputs": [],
   "source": [
    "def move(self, direction):\n",
    "    self.paused = False\n",
    "    # Your code here!\n",
    "\n",
    "Snake.move = move"
   ]
  },
  {
   "cell_type": "markdown",
   "metadata": {},
   "source": [
    "### The <span style=\"font-family: monospace\">update</span> Method"
   ]
  },
  {
   "cell_type": "markdown",
   "metadata": {},
   "source": [
    "The <span style=\"font-family: monospace\">update</span> method moves the snake by a block in the direction of its <span style=\"font-family: monospace\">direction</span> instance variable. You'll have to have a good understanding of __conditionals__ and __lists__ for this one! It seems really complicated at first, but the following visual should help you understand how we can give the illusion of moving the snake in an easy way."
   ]
  },
  {
   "cell_type": "markdown",
   "metadata": {},
   "source": [
    "<div style=\"display:flex\">\n",
    "    <img src=\"./images/movement_1.png\" style=\"width: 250px; border: 1px solid black; margin: 10px;\"></img>\n",
    "    <img src=\"./images/movement_2.png\" style=\"width: 250px; border: 1px solid black; margin: 10px;\"></img>\n",
    "</div>\n",
    "\n",
    "These two images show what happens when the snake moves downward by one block, before and after. What are the differences that you see between the two images? The built-in <span style=\"color:#204a87;font-family: monospace\">insert</span><span style=\"font-family: monospace\">(&lt;index&gt;, &lt;element&gt;)</span> and <span style=\"color:#204a87;font-family: monospace\">pop</span><span style=\"font-family: monospace\">()</span> list methods will be really helpful!\n",
    "\n",
    "__Ignore the <span style=\"font-family: monospace\">ate_food</span> parameter for now, we'll come back to it later!__"
   ]
  },
  {
   "cell_type": "code",
   "execution_count": null,
   "metadata": {},
   "outputs": [],
   "source": [
    "def update(self, ate_food):\n",
    "    if self.paused:\n",
    "        return\n",
    "    \n",
    "    x = self.head().x\n",
    "    y = self.head().y\n",
    "    \n",
    "    # Your code here!\n",
    "\n",
    "Snake.update = update"
   ]
  },
  {
   "cell_type": "markdown",
   "metadata": {},
   "source": [
    "### Syncing It All Up"
   ]
  },
  {
   "cell_type": "markdown",
   "metadata": {},
   "source": [
    "Okay, we're so close to being able to move our code now. We just have to edit a couple things in our <span style=\"font-family: monospace\">Game</span> class so that everything we made so far is all connected. Just run this code block below to sync it all up!"
   ]
  },
  {
   "cell_type": "code",
   "execution_count": null,
   "metadata": {},
   "outputs": [],
   "source": [
    "def __init__(self, width=20, height=15, block_size = 20):\n",
    "    self.score = 0\n",
    "    self.width = width\n",
    "    self.height = height\n",
    "    self.block_size = block_size\n",
    "    self.snake = Snake(self.width // 2, self.height // 2)\n",
    "    self.food = Food(self.snake.blocks, self.width, self.height)\n",
    "    \n",
    "    self.create_canvas(self.width, self.height, self.block_size)\n",
    "\n",
    "def tick(self):\n",
    "    self.snake.update(False)\n",
    "    self.render()\n",
    "    if self.crashed(self.snake):\n",
    "        print(f'Snake died with score {self.score}.')\n",
    "        self.window.destroy()\n",
    "    self.window.after(int(1000 / self.snake.speed), self.tick)\n",
    "    \n",
    "def render(self):\n",
    "    self.canvas.delete('all')\n",
    "    self.snake.draw(self.canvas)\n",
    "    self.food.draw(self.canvas)\n",
    "    \n",
    "Game.__init__ = __init__\n",
    "Game.tick = tick\n",
    "Game.render = render"
   ]
  },
  {
   "cell_type": "markdown",
   "metadata": {},
   "source": [
    "The moment of truth. Run the code block below to test your code!"
   ]
  },
  {
   "cell_type": "code",
   "execution_count": null,
   "metadata": {},
   "outputs": [],
   "source": [
    "game = Game()\n",
    "game.start()"
   ]
  },
  {
   "cell_type": "markdown",
   "metadata": {},
   "source": [
    "## 3. Adding Interaction"
   ]
  },
  {
   "cell_type": "markdown",
   "metadata": {},
   "source": [
    "### Crashing"
   ]
  },
  {
   "cell_type": "markdown",
   "metadata": {},
   "source": [
    "In most games, collision detection is a huge part! We have to determine our hitboxes and see when one thing hits another, so that we can resolve what happens as a result of it. In Snake, __the game should end whenever the Snake crashes with the wall or one of its own body segments.__ \n",
    "\n",
    "Let's create a function called <span style=\"font-family: monospace\">crashed</span> that detects whether the player has crashed and returns either <span style=\"font-family: monospace;color:#0000cf\">True</span> or <span style=\"font-family: monospace;color:#0000cf\">False</span>.\n",
    "\n",
    "Keep in mind, this function will be located in the <span style=\"font-family: monospace\">Game</span> class, so make sure you're properly accessing all of the instance variables."
   ]
  },
  {
   "cell_type": "code",
   "execution_count": null,
   "metadata": {},
   "outputs": [],
   "source": [
    "def crashed(self, snake):\n",
    "    head = snake.head()\n",
    "    # Your code here!\n",
    "\n",
    "Game.crashed = crashed"
   ]
  },
  {
   "cell_type": "markdown",
   "metadata": {},
   "source": [
    "Try running your code! Now, when you run into the wall or crash into your own body, the game should end."
   ]
  },
  {
   "cell_type": "code",
   "execution_count": null,
   "metadata": {},
   "outputs": [],
   "source": [
    "game = Game()\n",
    "game.start()"
   ]
  },
  {
   "cell_type": "markdown",
   "metadata": {},
   "source": [
    "### Eating Food"
   ]
  },
  {
   "cell_type": "markdown",
   "metadata": {},
   "source": [
    "Our snake hungers. It can see the food, but it can't eat it yet. Let's put it out of its misery.\n",
    "\n",
    "Let's create a method inside the <span style=\"font-family: monospace\">Food</span> class called <span style=\"font-family: monospace\">eaten</span>. It'll take in a parameter <span style=\"font-family: monospace\">snake</span>, and if the <span style=\"font-family: monospace\">snake</span>'s head is on the food, then the function returns <span style=\"font-family: monospace;color:#0000cf\">True</span>. Otherwise, it returns <span style=\"font-family: monospace;color:#0000cf\">False</span>.\n",
    "\n",
    "__Remember, when you compare two <span style=\"font-family: monospace\">Blocks</span>, you have to use the <span style=\"font-family: monospace\">equals</span> method!__"
   ]
  },
  {
   "cell_type": "code",
   "execution_count": null,
   "metadata": {},
   "outputs": [],
   "source": [
    "# Your code here!\n",
    "\n",
    "Food.eaten = eaten"
   ]
  },
  {
   "cell_type": "markdown",
   "metadata": {},
   "source": [
    "Now go back to our <span style=\"font-family: monospace\">Snake</span>'s <span style=\"font-family: monospace\">update</span> method. When a snake eats food, its grows longer by __one block.__ In the <span style=\"font-family: monospace\">update</span> method, we have a parameter called <span style=\"font-family: monospace\">ate_food</span>, which is <span style=\"font-family: monospace;color:#0000cf\">True</span> if a Snake just ate some food. How can we change the code we have right now to make the snake grow longer if it ate?"
   ]
  },
  {
   "cell_type": "markdown",
   "metadata": {},
   "source": [
    "### Pièce de Résistance"
   ]
  },
  {
   "cell_type": "markdown",
   "metadata": {},
   "source": [
    "This is it! This is the final piece of our code! The pièce de résistance!\n",
    "\n",
    "Add in some code that first checks if food was eaten, and then calls the <span style=\"font-family: monospace\">Snake</span>'s <span style=\"font-family: monospace\">update</span> method on the result. If the food was eaten, you should also increase the score by 1 and generate a new <span style=\"font-family: monospace\">Food</span>!"
   ]
  },
  {
   "cell_type": "code",
   "execution_count": null,
   "metadata": {},
   "outputs": [],
   "source": [
    "def tick(self):\n",
    "    # Your code here!\n",
    "    self.render()\n",
    "    if self.crashed(self.snake):\n",
    "        print(f'Snake died with score {self.score}.')\n",
    "        self.window.destroy()\n",
    "    self.window.after(int(1000 / self.snake.speed), self.tick)\n",
    "    \n",
    "Game.tick = tick"
   ]
  },
  {
   "cell_type": "markdown",
   "metadata": {},
   "source": [
    "Alright, this is the final test you'll do! Let's get it."
   ]
  },
  {
   "cell_type": "code",
   "execution_count": null,
   "metadata": {},
   "outputs": [],
   "source": [
    "game = Game()\n",
    "game.start()"
   ]
  },
  {
   "cell_type": "markdown",
   "metadata": {},
   "source": [
    "## 4. Ya Done"
   ]
  },
  {
   "cell_type": "markdown",
   "metadata": {},
   "source": [
    "If you wanna try playing the game again, just run the code block below each time to restart."
   ]
  },
  {
   "cell_type": "code",
   "execution_count": null,
   "metadata": {},
   "outputs": [],
   "source": [
    "game = Game()\n",
    "game.start()"
   ]
  },
  {
   "cell_type": "markdown",
   "metadata": {},
   "source": [
    "If you wanna spend more time getting a deeper understanding of the game, try to look at the code we provided for you and understand it! Some of the more funny looking stuff, particularly in the <span style=\"font-family: monospace\">create_canvas</span> method, is just code we needed to set up the GUI and isn't as important as other parts.\n",
    "\n",
    "Trying messing around with different heights and widths for the canvas for a different gameplay too!\n",
    "\n",
    "If you'd like, we'd also highly encourage you to tackle one or more stretch goals below:\n",
    "- Increase the speed everytime the snake eats food--we already have a speed mechanic built into the <span style=\"font-family: monospace\">Game</span> class.\n",
    "- We currently have a <span style=\"font-family: monospace\">paused</span> parameter in our <span style=\"font-family: monospace\">Snake</span> class that's only being used at the start of the game. Modify the <span style=\"font-family: monospace\">Game</span> and <span style=\"font-family: monospace\">Snake</span> classes so that pressing the 'p' key pauses and unpauses the game.\n",
    "- Try to incorporate a two-player mode with the second player playing on the W, A, S, D keys.\n",
    "- Learn more about the <span style=\"font-family: monospace\">tkinter</span> GUI and display the score of the game as you play.\n",
    "\n",
    "The possibilities are endless! It's your game now."
   ]
  }
 ],
 "metadata": {
  "kernelspec": {
   "display_name": "Python 3",
   "language": "python",
   "name": "python3"
  },
  "language_info": {
   "codemirror_mode": {
    "name": "ipython",
    "version": 3
   },
   "file_extension": ".py",
   "mimetype": "text/x-python",
   "name": "python",
   "nbconvert_exporter": "python",
   "pygments_lexer": "ipython3",
   "version": "3.7.5"
  }
 },
 "nbformat": 4,
 "nbformat_minor": 2
}
